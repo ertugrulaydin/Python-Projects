{
 "cells": [
  {
   "cell_type": "markdown",
   "metadata": {},
   "source": [
    "***/\n",
    "siiryaz.py adında bir program yazarak, kullanıcının ünlü kişilerden surekli olarak cumleler yazmasını ve daha giris olmayacaksa tamam yazmasını ister. Kullanıcı tamam (büyük / küçük harf duyarlı) yazdıktan sonra, program rastgele kelimeleri seçecek ve bu sözcüklerden bir şiir yazacaktır. Ancak, bu eğlenceli programi kodladığınızda takip etmeniz gereken bazı kurallar vardır: \n",
    "\n",
    "Şiirin her satırında 5 kelime olduğundan ve şiirde toplam 4 satır bulunduğundan emin olun. Bu nedenle, toplam kelime sayısı butun cumlelerde 20'den azsa, program girilen sözcüklerin sayısının yeterli olmadığına dair bir uyarı iletisi vermelidir.\n",
    "Bilgisayar aynı kelimeyi birden fazla yerde kullanmayı seçebilir. \n",
    "Rastgele seçilen her kelimenin en az 4 harfi olmalıdır. \n",
    "ORNEK\n",
    "\n",
    ">>> Bir guzel soz girin: Love yourself. It is important to stay positive because beauty comes from the inside out.\n",
    "\n",
    ">>> Bir guzel soz girin: tamam\n",
    "\n",
    "Üzgünüz, bu kelimeden güzel bir şiir üretmek için yeterli kelime yok. Daha fazla cumle eklemeye devam edin.\n",
    "\n",
    ">>> Bir guzel soz girin: Nothing you wear is more important than your smile.\n",
    "\n",
    ">>> Bir guzel soz girin: tamam\n",
    "\n",
    "Bu cumlelerde 20'den fazla kelime var, ancak sadece 4 veya daha fazla harf içeren kelimeleri kullanabiliyorum. Lütfen başka bir cumle ekleyin ve tekrar deneyin.\n",
    "\n",
    ">>> Bir guzel soz girin: The most important thing is to enjoy your life - to be happy - it's all that matters.\n",
    "\n",
    ">>> Bir guzel soz girin: tamam\n",
    "\n",
    "İşte sana şiirim\n",
    "\n",
    "Important love wear smile important\n",
    "Happy enjoy life nothing inside\n",
    "Life that yourself matters smile\n",
    "Most happy beauty enjoy life\n",
    "\n",
    "\n",
    "\n",
    "#def uygunluk(liste2):\n",
    "\n",
    "    \n",
    "\n",
    "\n",
    "\n",
    "liste1=[]\n",
    "liste2=[]\n",
    "while True:\n",
    "    liste1=input(\"Güzel bir söz giriniz:(kelimelerin en az 4 harfli olmasına dikkat ediniz!)\")\n",
    "    liste2=liste1.split(\" \")\n",
    "    if(liste1=='tamam'):\n",
    "        if(len(liste2)<20):\n",
    "            print(\"En az 20 kelime girilmeli.{} kelime daha girmeniz gerekiyor!!!\".format(20-len(liste2)))\n",
    "\n",
    "    \n",
    "    \n",
    "    "
   ]
  },
  {
   "cell_type": "code",
   "execution_count": null,
   "metadata": {},
   "outputs": [],
   "source": [
    "print(\"sa\")"
   ]
  },
  {
   "cell_type": "code",
   "execution_count": null,
   "metadata": {},
   "outputs": [],
   "source": []
  }
 ],
 "metadata": {
  "kernelspec": {
   "display_name": "Python 3",
   "language": "python",
   "name": "python3"
  },
  "language_info": {
   "codemirror_mode": {
    "name": "ipython",
    "version": 3
   },
   "file_extension": ".py",
   "mimetype": "text/x-python",
   "name": "python",
   "nbconvert_exporter": "python",
   "pygments_lexer": "ipython3",
   "version": "3.6.7"
  }
 },
 "nbformat": 4,
 "nbformat_minor": 2
}
