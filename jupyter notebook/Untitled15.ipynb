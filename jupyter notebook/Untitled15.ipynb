{
 "cells": [
  {
   "cell_type": "code",
   "execution_count": null,
   "metadata": {},
   "outputs": [
    {
     "name": "stdout",
     "output_type": "stream",
     "text": [
      "kac ogrenci var?:2\n",
      "1. öğrencinin 1. dersinin notları, varsa dönem ödevi:1 2 3\n",
      "1.dersin ortalaması: 2.0\n",
      "1. öğrencinin 2. dersinin notları, varsa dönem ödevi:2 3 4\n",
      "2.dersin ortalaması: 3.0\n",
      "1. öğrencinin 3. dersinin notları, varsa dönem ödevi:3 4 5\n",
      "3.dersin ortalaması: 4.0\n",
      "1. öğrencinin 4. dersinin notları, varsa dönem ödevi:4 5 6\n",
      "4.dersin ortalaması: 5.0\n",
      "1. öğrencinin 5. dersinin notları, varsa dönem ödevi:5 6 7\n",
      "5.dersin ortalaması: 6.0\n",
      "1. öğrencinin derslerinin ortalaması: 1.2\n"
     ]
    }
   ],
   "source": [
    "liste=[]\n",
    "toplam=0\n",
    "ortTop=0\n",
    "sayi=int(input(\"kac ogrenci var?:\"))\n",
    "for i in range(1,(sayi+1)):\n",
    "    ortTopOrt=0\n",
    "    ortTop=0\n",
    "    ortalama=0\n",
    "    toplam=0\n",
    "    for j in range(1,6):\n",
    "        ortalama=0\n",
    "        toplam=0\n",
    "        ortTop=0\n",
    "        ortTopOrt=0\n",
    "        a=input(\"{}. öğrencinin {}. dersinin notları, varsa dönem ödevi:\".format(i,j))\n",
    "        liste.append(a)\n",
    "        for k in liste:\n",
    "            ortTop=0\n",
    "            ortalama=0\n",
    "            toplam=0\n",
    "            liste2=k.split(\" \")\n",
    "            for l in liste2:\n",
    "                toplam=toplam+(int(l))\n",
    "                ortalama=toplam/(len(liste2))\n",
    "            ortTop=(ortTop)+(ortalama)\n",
    "            ortTopOrt=(ortTop)/(5)\n",
    "        print(\"{}.dersin ortalaması: {}\".format(j,ortalama))\n",
    "    print(\"{}. öğrencinin derslerinin ortalaması: {}\".format(i,ortTopOrt))\n",
    "    toplam=0\n",
    "    ortalama=0\n",
    "    ortTop=0\n",
    "    ortTopOrt=0\n",
    "            "
   ]
  },
  {
   "cell_type": "markdown",
   "metadata": {},
   "source": [
    "## "
   ]
  },
  {
   "cell_type": "code",
   "execution_count": null,
   "metadata": {},
   "outputs": [],
   "source": []
  }
 ],
 "metadata": {
  "kernelspec": {
   "display_name": "Python 3",
   "language": "python",
   "name": "python3"
  },
  "language_info": {
   "codemirror_mode": {
    "name": "ipython",
    "version": 3
   },
   "file_extension": ".py",
   "mimetype": "text/x-python",
   "name": "python",
   "nbconvert_exporter": "python",
   "pygments_lexer": "ipython3",
   "version": "3.6.7"
  }
 },
 "nbformat": 4,
 "nbformat_minor": 2
}
