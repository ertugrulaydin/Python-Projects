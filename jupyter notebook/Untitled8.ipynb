{
 "cells": [
  {
   "cell_type": "code",
   "execution_count": 1,
   "metadata": {},
   "outputs": [
    {
     "name": "stdout",
     "output_type": "stream",
     "text": [
      "Bir cümle giriniz:selam naber\n",
      "reban males"
     ]
    }
   ],
   "source": [
    "#a girilen cümleyi tersten çevirme\n",
    "a=input(\"Bir cümle giriniz:\")\n",
    "liste=list(a)\n",
    "for i in liste[::-1]:\n",
    "    print(i,end=\"\")\n",
    "      "
   ]
  },
  {
   "cell_type": "code",
   "execution_count": null,
   "metadata": {},
   "outputs": [],
   "source": []
  },
  {
   "cell_type": "code",
   "execution_count": null,
   "metadata": {},
   "outputs": [],
   "source": [
    "#b) kelime kelime bölme\n",
    "a=input(\"Bir cümle giriniz:\")\n",
    "liste=a.split(' ')\n",
    "print(liste)"
   ]
  },
  {
   "cell_type": "code",
   "execution_count": null,
   "metadata": {},
   "outputs": [],
   "source": [
    "#c)girilen cümledeki harflerin sayısını ayrı ayrı veren\n",
    "\n",
    "a=input(\"Bir cümle giriniz:\")\n",
    "liste=list(a)\n",
    "print(liste)\n",
    "for i in liste:\n",
    "    print(i,\"->\",a.count(i))\n",
    "     "
   ]
  },
  {
   "cell_type": "code",
   "execution_count": null,
   "metadata": {},
   "outputs": [],
   "source": [
    "#d)kelimeleri kendi içinde ters çeviren\n",
    "a=input(\"Bir cümle giriniz:\")\n",
    "liste=a.split(\" \")\n",
    "print(liste)\n",
    "\n"
   ]
  },
  {
   "cell_type": "code",
   "execution_count": null,
   "metadata": {},
   "outputs": [],
   "source": [
    "#e)ünlü ve ünsüz harfleri ayıran\n",
    "bos_unlu=[]\n",
    "bos_unsuz=[]\n",
    "unlu=['a','i','ı','e','u','ü','o','ü']\n",
    "unsuz=['b','c','d','g','h','j','k','l','m','n','p','r','s','t','v','y','z']\n",
    "a=input(\"bir cümle giriniz:\")\n",
    "liste=list(a)\n",
    "for i in liste:\n",
    "    if(i in unlu):\n",
    "        bos_unlu.append(i)\n",
    "    elif(i in unsuz):\n",
    "        bos_unsuz.append(i)\n",
    "print(\"unlu harfler=\",bos_unlu,\"\\nunsuz harfler=\",bos_unsuz)\n",
    "        "
   ]
  },
  {
   "cell_type": "code",
   "execution_count": null,
   "metadata": {},
   "outputs": [],
   "source": []
  },
  {
   "cell_type": "code",
   "execution_count": null,
   "metadata": {},
   "outputs": [],
   "source": [
    "#f)küçük unlu uyumuna uyup uymadığını kontrol eden\n",
    "duz=['a','e','ı','i']\n",
    "yuvarlak=['o','ö','u','ü']\n",
    "yuvarlakduz=['u','ü']\n",
    "duzgenis=['a','e']\n",
    "a=input(\"Bir cümle giriniz:\")\n",
    "liste=a.split(\" \")\n",
    "print(liste)\n",
    "for i in range(0,len(liste)):\n",
    "    liste1[i]=list(liste[i])\n",
    "print(liste1)\n"
   ]
  },
  {
   "cell_type": "code",
   "execution_count": null,
   "metadata": {},
   "outputs": [],
   "source": [
    "    liste1[i]=list(liste[i])\n",
    "print(liste1)\n",
    "for i in liste:\n",
    "    print(\"for i\")\n",
    "    for j in liste1:\n",
    "        print(\"for j\")\n",
    "        if(j in duz):\n",
    "            print(\"if j\")\n",
    "            for j in liste1:\n",
    "                if(j not in duz):\n",
    "                    print(i,\"küçük ünlü uyumuna uymuyor\")\n",
    "                else:\n",
    "                    print(i,\"küçük ünlü uyumuna uyuyor\")\n",
    "        elif(j in yuvarlak):\n",
    "            for j in liste1:\n",
    "                if(j not in yuvarlakduz and j not in duzgenis):\n",
    "                    print(i,\"küçük ünlü uyumuna uymuyor\")\n",
    "                else:\n",
    "                    print(i,\"küçük ünlü uyumuna uyuyor\")"
   ]
  }
 ],
 "metadata": {
  "kernelspec": {
   "display_name": "Python 3",
   "language": "python",
   "name": "python3"
  },
  "language_info": {
   "codemirror_mode": {
    "name": "ipython",
    "version": 3
   },
   "file_extension": ".py",
   "mimetype": "text/x-python",
   "name": "python",
   "nbconvert_exporter": "python",
   "pygments_lexer": "ipython3",
   "version": "3.6.7"
  }
 },
 "nbformat": 4,
 "nbformat_minor": 2
}
