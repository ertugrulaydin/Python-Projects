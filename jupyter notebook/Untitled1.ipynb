{
 "cells": [
  {
   "cell_type": "code",
   "execution_count": null,
   "metadata": {},
   "outputs": [],
   "source": [
    "def LucasLehmer(p):\n",
    "    s = 4\n",
    "    M = 2**p - 1\n",
    "    for i in range(p-2):\n",
    "        s = (s*s - 2) % M\n",
    "    return s == 0\n",
    "LucasLehmer(1)"
   ]
  },
  {
   "cell_type": "code",
   "execution_count": null,
   "metadata": {},
   "outputs": [],
   "source": [
    "LucasLehmer(7)"
   ]
  },
  {
   "cell_type": "code",
   "execution_count": null,
   "metadata": {},
   "outputs": [],
   "source": [
    "def LucasLehmer(p):\n",
    "    s = 4\n",
    "    M = 2**p - 1\n",
    "    for i in range(p-2):\n",
    "        s = (s*s - 2) % M\n",
    "    return s == 0\n",
    "sayac=2\n",
    "while True:\n",
    "    LucasLehmer(sayac)\n",
    "    if True:\n",
    "        sayac+=1\n",
    "    if(sayac==10000):\n",
    "        print(sayac)\n",
    "        break\n",
    "    "
   ]
  },
  {
   "cell_type": "code",
   "execution_count": null,
   "metadata": {},
   "outputs": [],
   "source": []
  },
  {
   "cell_type": "code",
   "execution_count": null,
   "metadata": {},
   "outputs": [],
   "source": []
  }
 ],
 "metadata": {
  "kernelspec": {
   "display_name": "Python 3",
   "language": "python",
   "name": "python3"
  },
  "language_info": {
   "codemirror_mode": {
    "name": "ipython",
    "version": 3
   },
   "file_extension": ".py",
   "mimetype": "text/x-python",
   "name": "python",
   "nbconvert_exporter": "python",
   "pygments_lexer": "ipython3",
   "version": "3.7.0"
  }
 },
 "nbformat": 4,
 "nbformat_minor": 2
}
