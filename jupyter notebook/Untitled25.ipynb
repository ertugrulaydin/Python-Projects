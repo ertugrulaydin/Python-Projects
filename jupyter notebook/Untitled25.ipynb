{
 "cells": [
  {
   "cell_type": "code",
   "execution_count": null,
   "metadata": {},
   "outputs": [
    {
     "name": "stdout",
     "output_type": "stream",
     "text": [
      "[20, 30, 50, 30, 40, 100, 50, 60, 150, 180]\n"
     ]
    }
   ],
   "source": [
    "from turtle import *\n",
    "liste=[20, 30, 50, 30, 40, 100, 50, 60, 150, 180]\n",
    "print(liste)\n",
    "color(\"black\")\n",
    "begin_fill()#Cizmeye basliyor.\n",
    "forward(300)#tam sayilardaki en büyük buraya yazarsiniz.\n",
    "write(300)\n",
    "setx(0)#x eksenin 0 a gidiyor\n",
    "sety(0)#y eksenin 0 a gidiyor\n",
    "left(90)\n",
    "forward(200)\n",
    "write(200)\n",
    "setx(0)\n",
    "sety(0)\n",
    "end_fill()\n",
    "\n",
    "\n",
    "for i in range(len(liste)):\n",
    "    a=liste[i]\n",
    "    begin_fill()\n",
    "    forward(a)\n",
    "    right(a)\n",
    "    circle(3)\n",
    "    write(a)\n",
    "    end_fill()\n",
    "done()#bitti"
   ]
  },
  {
   "cell_type": "code",
   "execution_count": null,
   "metadata": {},
   "outputs": [],
   "source": []
  }
 ],
 "metadata": {
  "kernelspec": {
   "display_name": "Python 3",
   "language": "python",
   "name": "python3"
  },
  "language_info": {
   "codemirror_mode": {
    "name": "ipython",
    "version": 3
   },
   "file_extension": ".py",
   "mimetype": "text/x-python",
   "name": "python",
   "nbconvert_exporter": "python",
   "pygments_lexer": "ipython3",
   "version": "3.6.7"
  }
 },
 "nbformat": 4,
 "nbformat_minor": 2
}
