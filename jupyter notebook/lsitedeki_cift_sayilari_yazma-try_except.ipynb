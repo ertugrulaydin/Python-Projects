{
 "cells": [
  {
   "cell_type": "code",
   "execution_count": 2,
   "metadata": {},
   "outputs": [
    {
     "name": "stdout",
     "output_type": "stream",
     "text": [
      "Bir sayı girin:4\n",
      "4 cift sayidir\n"
     ]
    }
   ],
   "source": [
    "def ciftmi(sayi):\n",
    "    if(sayi%2==0):\n",
    "        print(sayi,\"cift sayidir\")\n",
    "    else:\n",
    "        raise ValueError(\"Sayı tek!\")\n",
    "liste=[1,4,23,5,7,3,42,54,52,6,534,21,64,34,768,65]\n",
    "for i in liste:\n",
    "    try:\n",
    "        ciftmi(i)\n",
    "    except:\n",
    "        pass\n",
    "print()\n"
   ]
  },
  {
   "cell_type": "code",
   "execution_count": null,
   "metadata": {},
   "outputs": [],
   "source": []
  },
  {
   "cell_type": "code",
   "execution_count": null,
   "metadata": {},
   "outputs": [],
   "source": []
  }
 ],
 "metadata": {
  "kernelspec": {
   "display_name": "Python 3",
   "language": "python",
   "name": "python3"
  },
  "language_info": {
   "codemirror_mode": {
    "name": "ipython",
    "version": 3
   },
   "file_extension": ".py",
   "mimetype": "text/x-python",
   "name": "python",
   "nbconvert_exporter": "python",
   "pygments_lexer": "ipython3",
   "version": "3.7.0"
  }
 },
 "nbformat": 4,
 "nbformat_minor": 2
}
