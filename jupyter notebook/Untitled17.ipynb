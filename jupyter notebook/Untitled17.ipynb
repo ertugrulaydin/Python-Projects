{
 "cells": [
  {
   "cell_type": "code",
   "execution_count": null,
   "metadata": {},
   "outputs": [
    {
     "name": "stdout",
     "output_type": "stream",
     "text": [
      "değer girin(0 (çıkış):1\n",
      "daha yüksek bir sayi girin\n",
      "değer girin(0 (çıkış):4\n",
      "daha yüksek bir sayi girin\n",
      "değer girin(0 (çıkış):5\n",
      "daha yüksek bir sayi girin\n",
      "değer girin(0 (çıkış):7\n",
      "daha yüksek bir sayi girin\n",
      "değer girin(0 (çıkış):9\n",
      "daha yüksek bir sayi girin\n",
      "değer girin(0 (çıkış):9\n",
      "daha yüksek bir sayi girin\n",
      "değer girin(0 (çıkış):10\n",
      "daha yüksek bir sayi girin\n",
      "değer girin(0 (çıkış):56\n",
      "daha yüksek bir sayi girin\n",
      "değer girin(0 (çıkış):754\n",
      "daha düşük bir sayi girin\n",
      "değer girin(0 (çıkış):54\n",
      "daha yüksek bir sayi girin\n",
      "değer girin(0 (çıkış):64\n",
      "daha düşük bir sayi girin\n",
      "değer girin(0 (çıkış):65\n",
      "daha düşük bir sayi girin\n",
      "değer girin(0 (çıkış):64\n",
      "daha düşük bir sayi girin\n",
      "değer girin(0 (çıkış):63\n",
      "daha düşük bir sayi girin\n",
      "değer girin(0 (çıkış):62\n",
      "daha düşük bir sayi girin\n",
      "değer girin(0 (çıkış):55\n",
      "daha yüksek bir sayi girin\n",
      "değer girin(0 (çıkış):57\n",
      "daha yüksek bir sayi girin\n",
      "değer girin(0 (çıkış):58\n",
      "başta seçilen sayi58!\n",
      "tahmin sayınız 18\n"
     ]
    }
   ],
   "source": [
    "import random\n",
    "rand=random.randint(1,100)\n",
    "sayac=0\n",
    "\n",
    "while True:\n",
    "    sayac+=1\n",
    "    sayi=int(input(\"değer girin(0 (çıkış):\"))\n",
    "    if (sayi==0):\n",
    "        print(\"oyunu iptal ettiniz\")\n",
    "        break\n",
    "    elif sayi < rand:\n",
    "        print(\"daha yüksek bir sayi girin\")\n",
    "        continue\n",
    "    elif sayi > rand:\n",
    "        print(\"daha düşük bir sayi girin\")\n",
    "    else:\n",
    "        print(\"başta seçilen sayi{0}!\".format(rand))\n",
    "        print(\"tahmin sayınız {0}\".format(sayac))"
   ]
  },
  {
   "cell_type": "code",
   "execution_count": null,
   "metadata": {},
   "outputs": [],
   "source": []
  }
 ],
 "metadata": {
  "kernelspec": {
   "display_name": "Python 3",
   "language": "python",
   "name": "python3"
  },
  "language_info": {
   "codemirror_mode": {
    "name": "ipython",
    "version": 3
   },
   "file_extension": ".py",
   "mimetype": "text/x-python",
   "name": "python",
   "nbconvert_exporter": "python",
   "pygments_lexer": "ipython3",
   "version": "3.6.7"
  }
 },
 "nbformat": 4,
 "nbformat_minor": 2
}
