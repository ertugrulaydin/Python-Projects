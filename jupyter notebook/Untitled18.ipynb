{
 "cells": [
  {
   "cell_type": "code",
   "execution_count": 10,
   "metadata": {},
   "outputs": [
    {
     "name": "stdout",
     "output_type": "stream",
     "text": [
      "İşlem seciniz:\n",
      "1.İstenilen Ortalama\n",
      "2.Ortalama Hesaplama\n",
      "3.Yapılabilecek En Yüksek Ortalama\n",
      "4.Çıkış2\n",
      "Vize Notunuzu Giriniz: 100\n",
      "Final Notunuzu Giriniz: 100\n",
      "Ortalama: 100.0\n",
      "Harf Notu: AA\n",
      "0\n",
      "Çıkış Yapılıyor...\n"
     ]
    }
   ],
   "source": [
    "def harfNotu(sonuc):\n",
    "    if(sonuc <=100 and sonuc>=89,5):\n",
    "        hn=\"AA\"\n",
    "        print(\"Ortalama: {}\\nHarf Notu: {}\".format(sonuc,hn))\n",
    "\n",
    "        \n",
    "    elif(sonuc <89,5 and sonuc>=84,5):\n",
    "        hn=\"BA\"\n",
    "        print(\"Ortalama: {}\\nHarf Notu: {}\".format(sonuc,hn))\n",
    "    elif(sonuc <84,5 and sonuc>=79,5):\n",
    "        hn=\"BB\"\n",
    "        print(\"Ortalama: {}\\nHarf Notu: {}\".format(sonuc,hn))\n",
    "    elif(sonuc <79,5 and sonuc>=69,5):\n",
    "        hn=\"CB\"\n",
    "        print(\"Ortalama: {}\\nHarf Notu: {}\".format(sonuc,hn))\n",
    "    elif(sonuc <69,5 and sonuc>=59,5):\n",
    "        hn=\"CC\"\n",
    "        print(\"Ortalama: {}\\nHarf Notu: {}\".format(sonuc,hn))\n",
    "    elif(sonuc <59,5 and sonuc>=54,5):\n",
    "        hn=\"DC\"\n",
    "        print(\"Ortalama: {}\\nHarf Notu: {}\".format(sonuc,hn))\n",
    "    elif(sonuc <54,5 and sonuc>=50,5):\n",
    "        hn=\"DD\"\n",
    "        print(\"Ortalama: {}\\nHarf Notu: {}\".format(sonuc,hn))\n",
    "    else:\n",
    "        hn=\"FF\"\n",
    "        print(\"Ortalama: {}\\nHarf Notu: {}\".format(sonuc,hn))\n",
    "while True:\n",
    "    secim=input(\"İşlem seciniz:\\n\"\n",
    "               +\"1.İstenilen Ortalama\\n\"\n",
    "               +\"2.Ortalama Hesaplama\\n\"\n",
    "               +\"3.Yapılabilecek En Yüksek Ortalama\\n\"\n",
    "               +\"4.Çıkış\")\n",
    "    if (secim==\"1\"):\n",
    "        vize=int(input(\"Vize Notunuzu Giriniz: \"))\n",
    "        istenilenOrt=float(input(\"Hedeflediğiniz Ortalamayı Giriniz: \"))\n",
    "        hedefIcinAlinmasiGerekenNot=((istenilenOrt-(vize*(40/100)))*10/6)\n",
    "        if(hedefIcinAlinmasiGerekenNot > int(hedefIcinAlinmasiGerekenNot)):\n",
    "            hedefIcinAlinmasiGerekenNot=int(hedefIcinAlinmasiGerekenNot)+1\n",
    "        print(hedefIcinAlinmasiGerekenNot)\n",
    "    elif (secim==\"2\"):\n",
    "        vize=int(input(\"Vize Notunuzu Giriniz: \"))\n",
    "        final=int(input(\"Final Notunuzu Giriniz: \"))\n",
    "        sonuc=vize*40/100+final*60/100\n",
    "        harfNotu(sonuc)\n",
    "        bekle=input(\"\")\n",
    "        if(bekle==\"1\"):\n",
    "            continue\n",
    "        elif(bekle==\"0\"):\n",
    "            print(\"Çıkış Yapılıyor...\")\n",
    "            break\n",
    "        \n",
    "    elif (secim==\"3\"):\n",
    "        vize=int(input(\"Vize Notunuzu Giriniz: \"))\n",
    "        enYuksekOrt=vize*(4/10)+60\n",
    "        print(\"Yapabileceğiniz En Yüksek Ortalama: \",enYuksekOrt)\n",
    "    elif(secim==\"4\"):\n",
    "        print(\"Çıkış Yapılıyor...\")\n",
    "        break;\n",
    "        \n",
    "        \n",
    "\n",
    "\n",
    "\n"
   ]
  },
  {
   "cell_type": "code",
   "execution_count": null,
   "metadata": {},
   "outputs": [],
   "source": []
  },
  {
   "cell_type": "code",
   "execution_count": null,
   "metadata": {},
   "outputs": [],
   "source": []
  }
 ],
 "metadata": {
  "kernelspec": {
   "display_name": "Python 3",
   "language": "python",
   "name": "python3"
  },
  "language_info": {
   "codemirror_mode": {
    "name": "ipython",
    "version": 3
   },
   "file_extension": ".py",
   "mimetype": "text/x-python",
   "name": "python",
   "nbconvert_exporter": "python",
   "pygments_lexer": "ipython3",
   "version": "3.6.7"
  }
 },
 "nbformat": 4,
 "nbformat_minor": 2
}
