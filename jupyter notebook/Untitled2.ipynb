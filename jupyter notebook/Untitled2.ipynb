{
 "cells": [
  {
   "cell_type": "code",
   "execution_count": 2,
   "metadata": {},
   "outputs": [
    {
     "name": "stdout",
     "output_type": "stream",
     "text": [
      "Güzel bir söz girin:asde\n",
      "Güzel bir söz girin:tamam\n",
      "sozcuk sayısı yetersiz. Ekleme yapın\n",
      "Güzel bir söz girin:ertu\n",
      "Güzel bir söz girin:yusuf\n",
      "Güzel bir söz girin:erkam\n",
      "Güzel bir söz girin:musti\n",
      "Güzel bir söz girin:aynur\n",
      "Güzel bir söz girin:şaban\n",
      "Güzel bir söz girin:yağız\n",
      "Güzel bir söz girin:uras\n",
      "Güzel bir söz girin:emre\n",
      "Güzel bir söz girin:zuhal\n",
      "Güzel bir söz girin:tamma\n",
      "Güzel bir söz girin:tamam\n",
      "sozcuk sayısı yetersiz. Ekleme yapın\n",
      "Güzel bir söz girin:kuzu\n",
      "Güzel bir söz girin:kırmızı balık\n",
      "Güzel bir söz girin:balıkçı amca\n",
      "Güzel bir söz girin:tamam\n",
      "sozcuk sayısı yetersiz. Ekleme yapın\n",
      "Güzel bir söz girin:oltasını atıyor\n",
      "Güzel bir söz girin:tamam\n",
      "sozcuk sayısı yetersiz. Ekleme yapın\n",
      "Güzel bir söz girin:fhyjgjkhkl\n",
      "Güzel bir söz girin:hjkghjkgjk vhjböjhkljş jlkjljnhkhjk\n",
      "Güzel bir söz girin:tamam\n",
      "tamma aynur yusuf emre hjkghjkgjk\n",
      "zuhal şaban oltasını kırmızı balıkçı\n",
      "atıyor jlkjljnhkhjk uras amca asde\n",
      "vhjböjhkljş yağız musti ertu kuzu\n"
     ]
    }
   ],
   "source": [
    "from random import shuffle\n",
    "\n",
    "kelimeler =[]\n",
    "\n",
    "def siir(uygun_kelimeler):\n",
    "    shuffle(uygun_kelimeler)\n",
    "    son = uygun_kelimeler[0:20]\n",
    "    for i in range(0,20,5):\n",
    "        print(\" \".join(son[i:i+5]))\n",
    "\n",
    "while True:\n",
    "    guzel_soz = input(\"Güzel bir söz girin:\")\n",
    "    if guzel_soz == \"tamam\":\n",
    "        if len(kelimeler)<20:\n",
    "            print(\"sozcuk sayısı yetersiz. Ekleme yapın\")\n",
    "        else:\n",
    "            uygun_kelimeler = [a for a in kelimeler if len(a) >= 4]\n",
    "            if len(uygun_kelimeler)<20:\n",
    "                print(\"20 kelime var ama uzunluk yetersiz.\")\n",
    "            else:\n",
    "                siir(uygun_kelimeler)\n",
    "                break\n",
    "    else:\n",
    "        kelimeler.extend(guzel_soz.split())"
   ]
  },
  {
   "cell_type": "code",
   "execution_count": null,
   "metadata": {},
   "outputs": [],
   "source": []
  }
 ],
 "metadata": {
  "kernelspec": {
   "display_name": "Python 3",
   "language": "python",
   "name": "python3"
  },
  "language_info": {
   "codemirror_mode": {
    "name": "ipython",
    "version": 3
   },
   "file_extension": ".py",
   "mimetype": "text/x-python",
   "name": "python",
   "nbconvert_exporter": "python",
   "pygments_lexer": "ipython3",
   "version": "3.6.7"
  }
 },
 "nbformat": 4,
 "nbformat_minor": 2
}
