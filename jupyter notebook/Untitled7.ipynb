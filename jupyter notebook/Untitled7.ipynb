{
 "cells": [
  {
   "cell_type": "code",
   "execution_count": 35,
   "metadata": {},
   "outputs": [
    {
     "name": "stdout",
     "output_type": "stream",
     "text": [
      "Bir liste giriniz:45,21,5,3,5,6,78,1,2,3,6\n",
      "[1, 2, 3, 5, 6, 21, 45, 78]\n"
     ]
    }
   ],
   "source": [
    "def fonksiyon(liste):\n",
    "    for i in liste[:]:\n",
    "        if(liste.count(i)>1):\n",
    "            liste.remove(i)\n",
    "    for i in range(len(liste)):\n",
    "        liste[i]=int(liste[i])\n",
    "    liste.sort()\n",
    "    return print(liste)\n",
    "    \n",
    "a=input(\"Bir liste giriniz:\")\n",
    "liste=a.split(\",\")\n",
    "fonksiyon(liste)\n",
    "\n",
    "            \n",
    "            \n"
   ]
  },
  {
   "cell_type": "code",
   "execution_count": null,
   "metadata": {},
   "outputs": [],
   "source": []
  },
  {
   "cell_type": "code",
   "execution_count": null,
   "metadata": {},
   "outputs": [],
   "source": []
  }
 ],
 "metadata": {
  "kernelspec": {
   "display_name": "Python 3",
   "language": "python",
   "name": "python3"
  },
  "language_info": {
   "codemirror_mode": {
    "name": "ipython",
    "version": 3
   },
   "file_extension": ".py",
   "mimetype": "text/x-python",
   "name": "python",
   "nbconvert_exporter": "python",
   "pygments_lexer": "ipython3",
   "version": "3.6.7"
  }
 },
 "nbformat": 4,
 "nbformat_minor": 2
}
