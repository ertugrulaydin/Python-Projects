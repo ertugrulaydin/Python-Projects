{
 "cells": [
  {
   "cell_type": "code",
   "execution_count": null,
   "metadata": {},
   "outputs": [
    {
     "name": "stdout",
     "output_type": "stream",
     "text": [
      "_ _ _ _ _ _ _\n",
      "\n",
      "bir harf giriniz ya da direkt kelimeyi tahmin ediniz.a\n",
      "a _ a _ _ _ _\n"
     ]
    }
   ],
   "source": [
    "import random\n",
    "bulunacak = random.choice(['istinye', 'ataturk', 'program', 'fenerbahce', 'python','galatasaray','manisa','bilgisayar'])\n",
    "harf=[]\n",
    "tire='_'\n",
    "a=list(len(bulunacak) * tire)\n",
    "hak=7\n",
    "while (True):\n",
    "      ctr=\"\"\n",
    "      print(\" \".join(a))\n",
    "      kelime=input(\"\\nbir harf giriniz ya da direkt kelimeyi tahmin ediniz.\")\n",
    "      if kelime==bulunacak:\n",
    "            print('tebrikler kelimeyi buldunuz',\" \".join(bulunacak))\n",
    "            break\n",
    "      else:\n",
    "            bulduk = None\n",
    "            if kelime in harf:\n",
    "                  bulduk=True\n",
    "                  print('bu harfi onceden girdiniz lutfen farkli bir harf deneyiniz.\\n')\n",
    "            else:\n",
    "                  for i in range(len(bulunacak)):\n",
    "                        if kelime == bulunacak[i]:\n",
    "                              bulduk = True\n",
    "                              a[i] = kelime\n",
    "                              harf.append(kelime)\n",
    "                              if tire not in a:\n",
    "                                    print(' '.join(a))\n",
    "                                    print('\\nTebrikler kelimeyi buldunuz!')\n",
    "                                    ctr=\"+\"\n",
    "                                    \n",
    "                  if ctr==\"+\":\n",
    "                        break\n",
    "\n",
    "            if bulduk !=True:\n",
    "                  hak = hak - 1\n",
    "                  print('yanlıs kalan hakkiniz: {}\\n'.format(hak))\n",
    "                  harf.append(kelime)\n",
    "            if hak == 0:\n",
    "                  print(\"bilemediniz,adam asıldı :( kelime\",bulunacak,\"idi\")\n",
    "                  break"
   ]
  },
  {
   "cell_type": "code",
   "execution_count": null,
   "metadata": {},
   "outputs": [],
   "source": []
  },
  {
   "cell_type": "code",
   "execution_count": null,
   "metadata": {},
   "outputs": [],
   "source": []
  }
 ],
 "metadata": {
  "kernelspec": {
   "display_name": "Python 3",
   "language": "python",
   "name": "python3"
  },
  "language_info": {
   "codemirror_mode": {
    "name": "ipython",
    "version": 3
   },
   "file_extension": ".py",
   "mimetype": "text/x-python",
   "name": "python",
   "nbconvert_exporter": "python",
   "pygments_lexer": "ipython3",
   "version": "3.6.7"
  }
 },
 "nbformat": 4,
 "nbformat_minor": 2
}
