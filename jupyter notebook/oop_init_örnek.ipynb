{
 "cells": [
  {
   "cell_type": "code",
   "execution_count": null,
   "metadata": {},
   "outputs": [],
   "source": [
    "class Hayvan:\n",
    "    def __init__(self, *args, **kwargs):\n",
    "        # 1 - Kesinlikle sabit degisken sayisi belli init ile sinif yapisi olusturmayin\n",
    "        if len(args) == 1:\n",
    "            # 2- gelen parametre kontrolunu yapip ona gore instance ini olusturacak ayarlari yapin\n",
    "            self._isim = args[0]\n",
    "            #  3- ic degiskenler her zaman _ ile baslamalidir yani self.isim degil self._isim\n",
    "            # zaten .isim seklinde ulasmak icin biz @property ve @setter i asagida tanimlayacagiz\n",
    "        else:\n",
    "            self._isim = \"Isimsiz kahraman\"\n",
    "            # bu sayede eger isim degiskeni veya eksik parametre gecildi ise elle olusturma omkanin olsun\n",
    "            # default parametrelerle bunu yapanilirsiniz ama dusunun 30 tane paremetre gecilmesi gereken bir yapi\n",
    "            # kuruyorsunuz bu duurmda sinif tanimlamasi Hayvan(tur=dfde,isim=-dsfsd,o=dsfsd,bu=3242,su=dgs,aycicao=sdfsdfsd,.................)\n",
    "        print(\"Yeni instance olusturuldu yay!\")\n",
    "\n",
    "    @property\n",
    "    def isim(self):\n",
    "        print(\"Biri adimi ogrenmeye calisiyor ne tatli :)\")\n",
    "        return self._isim\n",
    "    # 4- @property kullanarak getter yapmak daha uygundur bu sayede ilgili method isminde bir degisken var gibi gozukur disaridan bakan icin\n",
    "\n",
    "    @isim.setter\n",
    "    def isim(self,isim):\n",
    "        print(\"Hmm adim artik degisti yeni bambaska biri oldum\")\n",
    "        self._isim = isim\n",
    "    # 5- @degiskenadi.setter kullanarak setter yapmak daha uygundur \n",
    "\n",
    "print(\"1\")\n",
    "kedi = Hayvan(\"Pamuk\")\n",
    "print(\"2\")\n",
    "print(kedi.isim)\n",
    "#bakin isim diye bir degisken yoktu _isim vardi property onu degisken gibi gostertti\n",
    "print(\"3\")\n",
    "kedi.isim= \"tekir\"\n",
    "#keza ayni sekilde @methodunadi.setter isim isimli degisken gibi atama yapmana imkan verdi\n",
    "print(\"4\")\n",
    "print(kedi.isim)\n",
    "print(\"5\")"
   ]
  }
 ],
 "metadata": {
  "kernelspec": {
   "display_name": "Python 3",
   "language": "python",
   "name": "python3"
  },
  "language_info": {
   "codemirror_mode": {
    "name": "ipython",
    "version": 3
   },
   "file_extension": ".py",
   "mimetype": "text/x-python",
   "name": "python",
   "nbconvert_exporter": "python",
   "pygments_lexer": "ipython3",
   "version": "3.6.7"
  }
 },
 "nbformat": 4,
 "nbformat_minor": 2
}
