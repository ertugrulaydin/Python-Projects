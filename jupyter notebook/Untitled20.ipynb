{
 "cells": [
  {
   "cell_type": "code",
   "execution_count": 12,
   "metadata": {},
   "outputs": [
    {
     "name": "stdout",
     "output_type": "stream",
     "text": [
      "Öğrenci Sayısını Giriniz: 3\n",
      "1. Öğrencinin Adı Soyadı: er\n",
      "2. Öğrencinin Adı Soyadı: tu\n",
      "3. Öğrencinin Adı Soyadı: ru\n",
      "ÖĞRENCİ NOT GİRİŞİ\n",
      "er\n",
      "1. Notu: 10\n",
      "2. Notu: 10\n",
      "tu\n",
      "1. Notu: 45\n",
      "2. Notu: 50\n",
      "ru\n",
      "1. Notu: 90\n",
      "2. Notu: 70\n",
      "ÖĞRENCİ NOT VE SINIF GEÇME DURUMLARI\n",
      "er   10.0   KALDI\n",
      "tu   47.5   KALDI\n",
      "ru   80.0   GEÇTİ\n",
      "SINIF ORTALAMASI =  45.666666666666664\n"
     ]
    }
   ],
   "source": [
    "isimler=[]\n",
    "ortalamalar=[]\n",
    "toplam=0\n",
    "topOrt=0\n",
    "durumlar=[]\n",
    "sayi=int(input(\"Öğrenci Sayısını Giriniz: \"))\n",
    "for i in range(1,(sayi+1)):\n",
    "    ad=input(\"\\n{}. Öğrencinin Adı Soyadı: \".format(i))\n",
    "    isimler.append(ad)\n",
    "print(\"\\nÖĞRENCİ NOT GİRİŞİ\")\n",
    "for i in range(0,sayi):\n",
    "    ortalama=0\n",
    "    toplam=0\n",
    "    print(isimler[i])\n",
    "    for j in range(1,3):\n",
    "        \n",
    "        notu=int(input(\"{}. Notu: \".format(j)))\n",
    "        toplam+=notu\n",
    "    ortalama=toplam/2\n",
    "    ortalamalar.append(ortalama)\n",
    "    \n",
    "    if(ortalama < 50):\n",
    "        durum='KALDI'\n",
    "        durumlar.append(durum)\n",
    "    else:\n",
    "        durum='GEÇTİ'\n",
    "        durumlar.append(durum)\n",
    "print(\"\\nÖĞRENCİ NOT VE SINIF GEÇME DURUMLARI\")\n",
    "for i in range(0,sayi):\n",
    "    print(isimler[i],\" \",ortalamalar[i],\" \",durumlar[i])\n",
    "for i in range(0,len(ortalamalar)):\n",
    "    topOrt+=int(ortalamalar[i])\n",
    "print(\"SINIF ORTALAMASI = \",topOrt/sayi)\n",
    "        "
   ]
  },
  {
   "cell_type": "code",
   "execution_count": null,
   "metadata": {},
   "outputs": [],
   "source": []
  }
 ],
 "metadata": {
  "kernelspec": {
   "display_name": "Python 3",
   "language": "python",
   "name": "python3"
  },
  "language_info": {
   "codemirror_mode": {
    "name": "ipython",
    "version": 3
   },
   "file_extension": ".py",
   "mimetype": "text/x-python",
   "name": "python",
   "nbconvert_exporter": "python",
   "pygments_lexer": "ipython3",
   "version": "3.6.7"
  }
 },
 "nbformat": 4,
 "nbformat_minor": 2
}
