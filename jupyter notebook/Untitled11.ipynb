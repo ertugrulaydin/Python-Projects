{
 "cells": [
  {
   "cell_type": "code",
   "execution_count": 11,
   "metadata": {},
   "outputs": [
    {
     "name": "stdout",
     "output_type": "stream",
     "text": [
      "Deger giriniz:selam naber\n",
      "sayıyı giriniz:1 1\n",
      "['selam', 'naber'] ['1', '1']\n"
     ]
    }
   ],
   "source": [
    "a=input(\"Deger giriniz:\")\n",
    "b=input(\"sayıyı giriniz:\")\n",
    "alfabe=['a','b' ,'c' , 'd', 'e', 'f', 'g' ,'h' ,'i' ,'j','k' ,'l' ,'m' ,'n' ,'o' ,'p' ,'r' ,'s' ,'t' ,'u' ,'v', 'y' ,'z']\n",
    "liste1=a.split(\" \")\n",
    "liste2=b.split(\" \")\n",
    "print(liste1,liste2)\n",
    "for i in liste1[:]:\n",
    "    liste3=list(i)\n",
    "    for j in liste3[:]:\n",
    "        if(j in alfabe):\n",
    "            "
   ]
  },
  {
   "cell_type": "code",
   "execution_count": null,
   "metadata": {},
   "outputs": [],
   "source": []
  },
  {
   "cell_type": "code",
   "execution_count": null,
   "metadata": {},
   "outputs": [],
   "source": []
  }
 ],
 "metadata": {
  "kernelspec": {
   "display_name": "Python 3",
   "language": "python",
   "name": "python3"
  },
  "language_info": {
   "codemirror_mode": {
    "name": "ipython",
    "version": 3
   },
   "file_extension": ".py",
   "mimetype": "text/x-python",
   "name": "python",
   "nbconvert_exporter": "python",
   "pygments_lexer": "ipython3",
   "version": "3.6.7"
  }
 },
 "nbformat": 4,
 "nbformat_minor": 2
}
