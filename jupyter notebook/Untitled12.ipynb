{
 "cells": [
  {
   "cell_type": "code",
   "execution_count": 1,
   "metadata": {},
   "outputs": [
    {
     "name": "stdout",
     "output_type": "stream",
     "text": [
      "uıorye\n"
     ]
    }
   ],
   "source": [
    "ilk_metin = \"asdasfddgdhfjfdgdşfkgjdfklgşjdfklgjdfkghdfjghjklsdhajlsdhjkjhkhjjh\"\n",
    "ikinci_metin = \"sdfsuıdoryeuıfsjkdfhdjklghjdfklruseldhfjlkdshfljskeeuf\"\n",
    "fark = \"\"\n",
    "for s in ikinci_metin:\n",
    "    if not s in ilk_metin:\n",
    "        if not s in fark:\n",
    "            fark += s\n",
    "print(fark)"
   ]
  },
  {
   "cell_type": "code",
   "execution_count": null,
   "metadata": {},
   "outputs": [],
   "source": []
  }
 ],
 "metadata": {
  "kernelspec": {
   "display_name": "Python 3",
   "language": "python",
   "name": "python3"
  },
  "language_info": {
   "codemirror_mode": {
    "name": "ipython",
    "version": 3
   },
   "file_extension": ".py",
   "mimetype": "text/x-python",
   "name": "python",
   "nbconvert_exporter": "python",
   "pygments_lexer": "ipython3",
   "version": "3.6.7"
  }
 },
 "nbformat": 4,
 "nbformat_minor": 2
}
