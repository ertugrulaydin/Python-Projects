{
 "cells": [
  {
   "cell_type": "code",
   "execution_count": 8,
   "metadata": {},
   "outputs": [
    {
     "name": "stdout",
     "output_type": "stream",
     "text": [
      "Deger giriniz:selam naber\n",
      "sayıyı giriniz:1 2\n",
      "['tfmbn', 'pcdgt']\n"
     ]
    }
   ],
   "source": [
    "\n"
   ]
  },
  {
   "cell_type": "code",
   "execution_count": 18,
   "metadata": {},
   "outputs": [
    {
     "name": "stdout",
     "output_type": "stream",
     "text": [
      "Deger giriniz:selam knk naber\n",
      "sayıyı giriniz:1 2 3\n",
      "{'tfmbn': '1', 'mpm': '2', 'rdehu': '3'}\n"
     ]
    }
   ],
   "source": [
    "def func(liste1,liste2):\n",
    "    sepretor=''\n",
    "    for i in range(len(liste1)):\n",
    "        liste3=list(liste1[i])\n",
    "        c=int(liste2[i])\n",
    "        liste4=[]\n",
    "        for j in liste3[:]:\n",
    "            for k in range(len(alfabe)):\n",
    "                if(j==alfabe[k]):\n",
    "                    if((k+c)<=(len(alfabe)-1)):\n",
    "                        liste4.append(alfabe[k+c])\n",
    "                    else:\n",
    "                        kalan=((k+c)-(len(alfabe)))\n",
    "                        liste4.append(alfabe[kalan])\n",
    "        liste5.append(sepretor.join(liste4))\n",
    "        sozluk[liste5[i]]=liste2[i]\n",
    "    print(sozluk)\n",
    "    \n",
    "sozluk={}\n",
    "liste5=list()\n",
    "a=input(\"Deger giriniz:\")\n",
    "b=input(\"sayıyı giriniz:\")\n",
    "alfabe=['a','b' ,'c' , 'd', 'e', 'f', 'g' ,'h' ,'i' ,'j','k' ,'l' ,'m' ,'n' ,\n",
    "    'o' ,'p' ,'r' ,'s' ,'t' ,'u' ,'v', 'y' ,'z']\n",
    "liste1=list(a)\n",
    "liste1=a.split(\" \")\n",
    "liste2=list(b)\n",
    "liste2=b.split(\" \")\n",
    "func(liste1,liste2)\n",
    "    "
   ]
  },
  {
   "cell_type": "code",
   "execution_count": null,
   "metadata": {},
   "outputs": [],
   "source": []
  },
  {
   "cell_type": "code",
   "execution_count": null,
   "metadata": {},
   "outputs": [],
   "source": []
  }
 ],
 "metadata": {
  "kernelspec": {
   "display_name": "Python 3",
   "language": "python",
   "name": "python3"
  },
  "language_info": {
   "codemirror_mode": {
    "name": "ipython",
    "version": 3
   },
   "file_extension": ".py",
   "mimetype": "text/x-python",
   "name": "python",
   "nbconvert_exporter": "python",
   "pygments_lexer": "ipython3",
   "version": "3.6.7"
  }
 },
 "nbformat": 4,
 "nbformat_minor": 2
}
