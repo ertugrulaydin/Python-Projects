{
 "cells": [
  {
   "cell_type": "code",
   "execution_count": null,
   "metadata": {},
   "outputs": [
    {
     "name": "stdout",
     "output_type": "stream",
     "text": [
      "1-999 arasinda bir sayi giriniz, islemi sonlandirmak isterseniz 'cikis' yazın.\n",
      "bir sayi gir:457\n",
      "four hundred fifty seven "
     ]
    }
   ],
   "source": [
    "sozluk={0:\"\",1:\"one\",2:\"two\",3:\"three\",4:\"four\",5:\"five\",6:\"six\",7:\"seven\",8:\"eight\",9:\"nine\",10:\"ten\",11:\"eleven\",12:\"twelve\",13:\"thirteen\",14:\"fourteen\",15:\"fifteen\",16:\"sixteen\",17:\"seventeen\",18:\"eightteen\",19:\"nineteen\",20:\"twenty\",30:\"thirty\",40:\"forty\",50:\"fifty\",60:\"sixty\",70:\"seventy\",80:\"eighty\",90:\"ninety\",100:\"one hundred\",}\n",
    "print(\"1-999 arasinda bir sayi giriniz, islemi sonlandirmak isterseniz 'cikis' yazın.\")\n",
    "while True:\n",
    "    a=input(\"bir sayi gir:\")\n",
    "    if (a=='cikis'):\n",
    "        print(\"isleminiz sonlandirilmistir.\")\n",
    "        break\n",
    "    elif (int(a)<=0)or(int(a)>999):\n",
    "        print(\"gecersiz deger girdiniz,lutfen 1-999 arasinda bir sayi giriniz.\")\n",
    "    else:\n",
    "        a=int(a)\n",
    "        if a in sozluk:\n",
    "            print(sozluk[a],end=\" \")\n",
    "        else:\n",
    "            sozluk2={0:\"\",2:\"twenty\",3:\"thirty\",4:\"forty\",5:\"fifty\",6:\"sixty\",7:\"seventy\",8:\"eighty\",9:\"ninety\"}\n",
    "            sozluk3={0:\"ten\",1:\"eleven\",2:\"twelve\",3:\"thirteen\",4:\"fourteen\",5:\"fifteen\",6:\"sixteen\",7:\"seventeen\",8:\"eightteen\",9:\"nineteen\"}\n",
    "            if (len(str(a))==2):\n",
    "                hak=0\n",
    "                for i in (str(a)):\n",
    "                    i=int(i)\n",
    "                    if (hak ==0):\n",
    "                        print(sozluk2[i],end=\" \")\n",
    "                        hak +=1\n",
    "                    else:\n",
    "                        print(sozluk[i],end=\" \")\n",
    "            elif (len(str(a))==3):\n",
    "                hak=0\n",
    "                for i in (str(a)):\n",
    "                    i=int(i)\n",
    "                    if (hak==0):\n",
    "                        print(sozluk[i],\"hundred\",end=\" \")\n",
    "                        hak +=1\n",
    "                    elif(hak==1):\n",
    "                        if (i==1):\n",
    "                            hak +=1\n",
    "                        else:\n",
    "                            if (i==0):\n",
    "                                hak +=2\n",
    "                            else:\n",
    "                                print(sozluk2[i],end=\" \")\n",
    "                                hak +=2\n",
    "                    elif(hak==2):\n",
    "                        print(sozluk3[i],end=\"\")\n",
    "                    else:\n",
    "                        if(i==0):\n",
    "                            hak +=3\n",
    "                        else:\n",
    "                            print(sozluk[i],end=\" \")"
   ]
  },
  {
   "cell_type": "code",
   "execution_count": null,
   "metadata": {},
   "outputs": [],
   "source": []
  }
 ],
 "metadata": {
  "kernelspec": {
   "display_name": "Python 3",
   "language": "python",
   "name": "python3"
  },
  "language_info": {
   "codemirror_mode": {
    "name": "ipython",
    "version": 3
   },
   "file_extension": ".py",
   "mimetype": "text/x-python",
   "name": "python",
   "nbconvert_exporter": "python",
   "pygments_lexer": "ipython3",
   "version": "3.6.7"
  }
 },
 "nbformat": 4,
 "nbformat_minor": 2
}
