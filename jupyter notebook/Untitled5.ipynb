{
 "cells": [
  {
   "cell_type": "code",
   "execution_count": 2,
   "metadata": {},
   "outputs": [
    {
     "name": "stdout",
     "output_type": "stream",
     "text": [
      "Bir liste giriniz:tugba\n",
      "abgut"
     ]
    }
   ],
   "source": [
    "a=input(\"Bir liste giriniz:\")\n",
    "liste=list(a)\n",
    "for i in range(0,int((len(liste))/2)):\n",
    "    yedek=liste[i]\n",
    "    liste[i]=liste[(len(liste)-i-1)]\n",
    "    liste[(len(liste)-i-1)]=yedek\n",
    "for j in liste:\n",
    "    print(j,end=\"\")\n",
    "\n",
    "\n",
    "\n"
   ]
  },
  {
   "cell_type": "code",
   "execution_count": null,
   "metadata": {},
   "outputs": [],
   "source": []
  },
  {
   "cell_type": "code",
   "execution_count": null,
   "metadata": {},
   "outputs": [],
   "source": []
  }
 ],
 "metadata": {
  "kernelspec": {
   "display_name": "Python 3",
   "language": "python",
   "name": "python3"
  },
  "language_info": {
   "codemirror_mode": {
    "name": "ipython",
    "version": 3
   },
   "file_extension": ".py",
   "mimetype": "text/x-python",
   "name": "python",
   "nbconvert_exporter": "python",
   "pygments_lexer": "ipython3",
   "version": "3.6.7"
  }
 },
 "nbformat": 4,
 "nbformat_minor": 2
}
