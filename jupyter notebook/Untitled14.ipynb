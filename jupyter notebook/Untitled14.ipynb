{
 "cells": [
  {
   "cell_type": "code",
   "execution_count": 14,
   "metadata": {},
   "outputs": [
    {
     "name": "stdout",
     "output_type": "stream",
     "text": [
      "kaç firma var?3\n",
      "1. firmanin ismini giriniz:wqeq\n",
      "2. firmanin ismini giriniz:sadas\n",
      "3. firmanin ismini giriniz:werwq\n",
      "1. firmanın gelirini liste halinde yazın:2 2 2 3 3 4\n",
      "2. firmanın gelirini liste halinde yazın:2 2 3 3 3 4\n",
      "3. firmanın gelirini liste halinde yazın:1 1 5 5 5 5\n",
      "{'wqeq': [2, 3], 'sadas': [3, 3], 'werwq': [5, 4]}\n",
      "gridiğiniz verinin mod aritmatik ortalaması 3.3333333333333335'dır.\n",
      "gridiğiniz verinin frekans aritmatik ortalaması 3.3333333333333335'dır.\n"
     ]
    }
   ],
   "source": [
    "import operator #sözlükteki en büyük değere sahip keyi bulmak için\n",
    "a=int(input(\"kaç firma var?\"))\n",
    "sozluk={}\n",
    "firmList=[]\n",
    "sonListe=[]\n",
    "mod={}\n",
    "liste1=[]\n",
    "topMod=0\n",
    "topFre=0\n",
    "\n",
    "for i in range(1,(a+1)):\n",
    "    b=input(\"{}. firmanin ismini giriniz:\".format(i))\n",
    "    firmList.append(b)\n",
    "for i in range(1,(a+1)):\n",
    "    b=input(\"{}. firmanın gelirini liste halinde yazın:\".format(i))\n",
    "    gelirList=b.split(\" \")\n",
    "    for j in range(len(gelirList)):\n",
    "        mod[gelirList[j]]=0\n",
    "        for k in range(len(gelirList)):\n",
    "            if(gelirList[j]==gelirList[k]):\n",
    "                mod[gelirList[j]]+=1 #gelirList'deki her bir değerden kaç tane olduğunu bulup değeri keys'e, tekrar sayısını values'e atıyoruz.\n",
    "            gelirMod=max(mod.items(), key=operator.itemgetter(1))[0] #values'e atadığımız tekrar(frekans) sayısı en büyük olan key\n",
    "            gelirFrekans=mod[gelirMod]\n",
    "            key=firmList[i-1]\n",
    "            sozluk[key]=[int(gelirMod)]\n",
    "            sozluk[key].append(gelirFrekans)\n",
    "    liste1.append(sozluk.get(key,sozluk.values))\n",
    "for i in range (len(liste1)):\n",
    "    for j in range (0,2):\n",
    "        topMod+=liste1[i][0]\n",
    "        topFre+=liste1[i][1]\n",
    "artOrtMod=topMod/(len(liste1))/2\n",
    "artOrtFre=topFre/(len(liste1))/2\n",
    "print(sozluk)\n",
    "print(\"gridiğiniz verinin mod aritmatik ortalaması {}'dır.\".format(artOrtMod))\n",
    "print(\"gridiğiniz verinin frekans aritmatik ortalaması {}'dır.\".format(artOrtFre))\n",
    "        \n",
    "    \n",
    "\n"
   ]
  },
  {
   "cell_type": "code",
   "execution_count": null,
   "metadata": {},
   "outputs": [],
   "source": []
  },
  {
   "cell_type": "code",
   "execution_count": null,
   "metadata": {},
   "outputs": [],
   "source": []
  },
  {
   "cell_type": "code",
   "execution_count": null,
   "metadata": {},
   "outputs": [],
   "source": []
  }
 ],
 "metadata": {
  "kernelspec": {
   "display_name": "Python 3",
   "language": "python",
   "name": "python3"
  },
  "language_info": {
   "codemirror_mode": {
    "name": "ipython",
    "version": 3
   },
   "file_extension": ".py",
   "mimetype": "text/x-python",
   "name": "python",
   "nbconvert_exporter": "python",
   "pygments_lexer": "ipython3",
   "version": "3.6.7"
  }
 },
 "nbformat": 4,
 "nbformat_minor": 2
}
