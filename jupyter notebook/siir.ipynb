{
 "cells": [
  {
   "cell_type": "code",
   "execution_count": 13,
   "metadata": {},
   "outputs": [
    {
     "name": "stdout",
     "output_type": "stream",
     "text": [
      "Güzel bir söz giriniz:dört altı yedi sekiz dokuz yirmi otuz kırk elli altmış yetmiş seksen doksan ikiyüz üçyüz dörtyüz beşyüz veli mehmet yeter ghasd dgtwyuqoı jdkashbdj djashgd dhsag erop kgue uıgrhen yufguyew ogrpej klefjk orehg ğükfe fuhje wyeuıq jmndsbjs fjıower ewkjhf ıfuheowjjk nfewhjb bfewuyhjk\n",
      "['dört', 'altı', 'yedi', 'sekiz', 'dokuz', 'yirmi', 'otuz', 'kırk', 'elli', 'altmış', 'yetmiş', 'seksen', 'doksan', 'ikiyüz', 'üçyüz', 'dörtyüz', 'beşyüz', 'veli', 'mehmet', 'yeter', 'ghasd', 'dgtwyuqoı', 'jdkashbdj', 'djashgd', 'dhsag', 'erop', 'kgue', 'uıgrhen', 'yufguyew', 'ogrpej', 'klefjk', 'orehg', 'ğükfe', 'fuhje', 'wyeuıq', 'jmndsbjs', 'fjıower', 'ewkjhf', 'ıfuheowjjk', 'nfewhjb', 'bfewuyhjk']\n",
      "Güzel bir söz giriniz:tamam\n",
      "len liste=41k=2\n",
      "nfewhjb üçyüz dgtwyuqoı ğükfe veli \n",
      "yirmi altı fuhje seksen ikiyüz \n",
      "djashgd orehg ıfuheowjjk fjıower otuz \n",
      "ghasd wyeuıq erop yeter jmndsbjs \n",
      "\n",
      "\n",
      "altmış yetmiş dört klefjk dokuz \n",
      "kırk dörtyüz dhsag yufguyew jdkashbdj \n",
      "yedi doksan ewkjhf kgue beşyüz \n",
      "sekiz uıgrhen bfewuyhjk ogrpej "
     ]
    }
   ],
   "source": [
    "from random import shuffle\n",
    "\n",
    "def karisik(liste3):\n",
    "    shuffle(liste3)\n",
    "    k=int(len(liste3)/20)\n",
    "    print(\"len liste={}k={}\".format(len(liste3),k))\n",
    "        \n",
    "    for i in range(1,(20*k)):\n",
    "        \n",
    "            print(liste3[i],end=\" \")\n",
    "            if(i%5==0):\n",
    "                print(\"\")\n",
    "            if(i%20==0):\n",
    "                print(\"\\n\")\n",
    "        \n",
    "\n",
    "        \n",
    "        \n",
    "    \n",
    "    \n",
    "    \n",
    "\n",
    "liste1=[]\n",
    "while True:\n",
    "    liste2=input(\"Güzel bir söz giriniz:\")\n",
    "    if(liste2=='tamam'):\n",
    "        if(len(liste1)<20):\n",
    "            print(\"20 kelimeden az girdiniz!!! {} kelime daha girmelisiniz!\".format(20-(len(liste1))))\n",
    "        else:\n",
    "            liste3 = [x for x in liste1 if len(x) >= 4]\n",
    "            if len(liste3)<20:\n",
    "                print(\"4 harften kısa olan sözcükler geçersizdir!! kurallara uyan {} kelime daha girmelisiniz!\".format(20-(len(liste3))))\n",
    "            else:\n",
    "                karisik(liste3)\n",
    "                break\n",
    "    else:\n",
    "        liste1.extend(liste2.split(\" \"))\n",
    "        print(liste1)"
   ]
  },
  {
   "cell_type": "code",
   "execution_count": null,
   "metadata": {},
   "outputs": [],
   "source": [
    "dört altı yedi sekiz dokuz yirmi otuz kırk elli altmış yetmiş seksen doksan ikiyüz üçyüz dörtyüz beşyüz veli mehmet"
   ]
  },
  {
   "cell_type": "code",
   "execution_count": null,
   "metadata": {},
   "outputs": [],
   "source": []
  }
 ],
 "metadata": {
  "kernelspec": {
   "display_name": "Python 3",
   "language": "python",
   "name": "python3"
  },
  "language_info": {
   "codemirror_mode": {
    "name": "ipython",
    "version": 3
   },
   "file_extension": ".py",
   "mimetype": "text/x-python",
   "name": "python",
   "nbconvert_exporter": "python",
   "pygments_lexer": "ipython3",
   "version": "3.6.7"
  }
 },
 "nbformat": 4,
 "nbformat_minor": 2
}
